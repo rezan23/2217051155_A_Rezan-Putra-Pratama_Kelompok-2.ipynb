{
  "nbformat": 4,
  "nbformat_minor": 0,
  "metadata": {
    "colab": {
      "provenance": []
    },
    "kernelspec": {
      "name": "python3",
      "display_name": "Python 3"
    },
    "language_info": {
      "name": "python"
    }
  },
  "cells": [
    {
      "cell_type": "code",
      "execution_count": null,
      "metadata": {
        "id": "MXZw2dciTvpv"
      },
      "outputs": [],
      "source": [
        "print(\"IIIIIIIIIIIIIIIIIIIIIIIIIIIIIIIIIIIIIIIIIIIIIIIIIII\")\n",
        "print(\"Anggota Kelompok :\")\n",
        "anggota_kelompok=[\"1.Muhamad Pandu Dwi Putra 2257051010\",'2.Muhammad Haris Setiawan 2217051039','3.Rezan Putra Pratama 2217051155']\n",
        "print(anggota_kelompok[0])\n",
        "print(anggota_kelompok[1])\n",
        "print(anggota_kelompok[2])\n",
        "print(\"IIIIIIIIIIIIIIIIIIIIIIIIIIIIIIIIIIIIIIIIIIIIIIIIIII\")\n",
        "\n",
        "\n",
        "\n",
        "\n",
        "\n",
        "user_id = 0\n",
        "loop = \"n\"\n",
        "users = [\n",
        "    {\n",
        "        \"id\": \"1234\",\n",
        "        \"no_rekening\": \"123456789\",\n",
        "        \"username\": \"Pandu\",\n",
        "        \"pin\": \"123456\",\n",
        "        \"saldo\": 250000\n",
        "    },\n",
        "    {\n",
        "        \"id\": \"4321\",\n",
        "        \"no_rekening\": \"987654321\",\n",
        "        \"username\": \"Haris\",\n",
        "        \"pin\": \"654321\",\n",
        "        \"saldo\": 1000000\n",
        "    },\n",
        "    {\n",
        "        \"id\": \"5678\",\n",
        "        \"no_rekening\": \"13579\",\n",
        "        \"username\": \"Rezan\",\n",
        "        \"pin\": \"2468\",\n",
        "        \"saldo\": 1500000\n",
        "    }\n",
        "]\n",
        "status_login = False\n",
        "pakai_atm = \"y\"\n",
        " \n",
        " \n",
        "def cek_login(p):\n",
        "    for user in users:\n",
        "        if user['pin'] == p:\n",
        "            return user\n",
        "    return False\n",
        " \n",
        " \n",
        "def cek_user(id):\n",
        "    for i in range(len(users)):\n",
        "        if users[i]['id'] == str(id):\n",
        "            return int(i)\n",
        "    return -1\n",
        " \n",
        " \n",
        "def cek_rekening(no):\n",
        "    for i in range(len(users)):\n",
        "        if str(users[i]['no_rekening']) == str(no):\n",
        "            return int(i)\n",
        "    return -1"
      ]
    }
  ]
}